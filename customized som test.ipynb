{
 "cells": [
  {
   "cell_type": "code",
   "execution_count": 88,
   "id": "9f6f4f1a-c43c-4026-bb6c-2d270b24e584",
   "metadata": {},
   "outputs": [],
   "source": [
    "from cust_minisom import MiniSom"
   ]
  },
  {
   "cell_type": "code",
   "execution_count": 89,
   "id": "2afcbdb6-b4a6-4074-805c-7e2dbfeb484b",
   "metadata": {},
   "outputs": [],
   "source": [
    "import numpy as np\n",
    "import pandas as pd\n",
    "import matplotlib as plt\n",
    "from sklearn import datasets"
   ]
  },
  {
   "cell_type": "code",
   "execution_count": 90,
   "id": "6736390b-698a-42fc-bb88-f9ba0811f6f6",
   "metadata": {},
   "outputs": [],
   "source": [
    "iris = datasets.load_iris()\n",
    "X = iris.data\n",
    "Y = iris.target"
   ]
  },
  {
   "cell_type": "code",
   "execution_count": 91,
   "id": "9957748f-9a67-4c3d-8826-ce30e3aa3049",
   "metadata": {},
   "outputs": [
    {
     "data": {
      "text/plain": [
       "((150, 4), (150,))"
      ]
     },
     "execution_count": 91,
     "metadata": {},
     "output_type": "execute_result"
    }
   ],
   "source": [
    "X.shape, Y.shape"
   ]
  },
  {
   "cell_type": "code",
   "execution_count": null,
   "id": "33c47e7a-1780-46e7-b89f-d636a2ba0743",
   "metadata": {},
   "outputs": [],
   "source": []
  },
  {
   "cell_type": "code",
   "execution_count": 92,
   "id": "4cdd8d54-55b2-4ce4-92aa-f497a8ed03ed",
   "metadata": {
    "tags": []
   },
   "outputs": [],
   "source": [
    "unit_norm  = X / np.linalg.norm(X,axis=0, keepdims=True)"
   ]
  },
  {
   "cell_type": "code",
   "execution_count": 93,
   "id": "b5c5b4a4-955f-446c-98fd-f6ca82b604ee",
   "metadata": {},
   "outputs": [],
   "source": [
    "unit_norm_numpy = unit_norm"
   ]
  },
  {
   "cell_type": "code",
   "execution_count": 94,
   "id": "86b58f41-ba89-44cf-a61e-4e31e9f8b5bd",
   "metadata": {},
   "outputs": [
    {
     "data": {
      "text/plain": [
       "(150, 4)"
      ]
     },
     "execution_count": 94,
     "metadata": {},
     "output_type": "execute_result"
    }
   ],
   "source": [
    "(unit_norm_numpy.shape)"
   ]
  },
  {
   "cell_type": "code",
   "execution_count": null,
   "id": "21bc1176-2aec-4097-ba71-cb003ec207d9",
   "metadata": {},
   "outputs": [],
   "source": []
  },
  {
   "cell_type": "code",
   "execution_count": 95,
   "id": "08f7d379-f356-4f00-a6de-9d2582c25fe7",
   "metadata": {
    "tags": []
   },
   "outputs": [
    {
     "name": "stdout",
     "output_type": "stream",
     "text": [
      " [ 1000 / 1000 ] 100% - 0:00:00 left \n",
      " quantization error: 0.8409130933816749\n"
     ]
    }
   ],
   "source": [
    "som = MiniSom(x= 10, y = 10, input_len = 4, activation_distance='euclidean', sigma = 3.0, learning_rate = 0.5)\n",
    "som.random_weights_init(unit_norm_numpy)\n",
    "som.train_random(data = unit_norm_numpy, num_iteration = 1000, verbose = True)"
   ]
  },
  {
   "cell_type": "code",
   "execution_count": 96,
   "id": "51d6c0e2-01e9-4d01-a231-23278d6a7058",
   "metadata": {
    "tags": []
   },
   "outputs": [],
   "source": [
    "win_map = som.win_map( data = unit_norm_numpy, return_indices=True)\n",
    "label_map = som.labels_map(data =  unit_norm_numpy, labels = Y)"
   ]
  },
  {
   "cell_type": "code",
   "execution_count": 97,
   "id": "6fa6ca00-9bc8-4f1f-b663-e6d5077977c1",
   "metadata": {},
   "outputs": [],
   "source": [
    "freq_map = np.zeros(shape=(10,10))\n",
    "sum_map , diff_map = np.zeros(shape=(10,10)), np.zeros(shape=(10,10))\n",
    "for i in range(10) :\n",
    "    for j in range(10) :\n",
    "        #print(i,j)\n",
    "        d = (label_map[(i,j)])\n",
    "        #print(d)\n",
    "        if not d:\n",
    "            max_val = -1\n",
    "            freq_map[i,j] = max_val\n",
    "            sum_map[i,j] = 0\n",
    "            diff_map[i,j] = 0\n",
    "        else :\n",
    "            values = list(d.values())\n",
    "            keys = list(d.keys())\n",
    "            max_val = keys[values.index(max(values))]\n",
    "            freq_map[i,j] = max_val\n",
    "            sum_map[i,j] = int(sum(values))\n",
    "            diff_map[i,j] = int(sum(values) - max(values))\n",
    "            #print(values,keys)\n",
    "        "
   ]
  },
  {
   "cell_type": "code",
   "execution_count": 98,
   "id": "af4691b4-52b3-41cf-956a-93330b6676e9",
   "metadata": {},
   "outputs": [
    {
     "name": "stdout",
     "output_type": "stream",
     "text": [
      "4.0\n"
     ]
    },
    {
     "data": {
      "image/png": "[encoded data removed]",
      "text/plain": [
       "<Figure size 432x288 with 2 Axes>"
      ]
     },
     "metadata": {
      "needs_background": "light"
     },
     "output_type": "display_data"
    }
   ],
   "source": [
    "from pylab import bone, pcolor, colorbar, plot, show\n",
    "#print(diff_map)\n",
    "#print(sum((diff_map.T)))\n",
    "print(sum(sum(diff_map)))\n",
    "\n",
    "pcolor(diff_map.T)\n",
    "colorbar()\n",
    "for i in range(10) :\n",
    "    for j in range(10) :\n",
    "        freq = freq_map[i,j]\n",
    "        plot(i + 0.5,\n",
    "             j + 0.5)\n",
    "show()\n"
   ]
  },
  {
   "cell_type": "code",
   "execution_count": 99,
   "id": "fa87a9e0-f8c4-4049-97f0-fc6bacd5f0f5",
   "metadata": {},
   "outputs": [
    {
     "data": {
      "image/png": "[encoded data removed]",
      "text/plain": [
       "<Figure size 432x288 with 2 Axes>"
      ]
     },
     "metadata": {
      "needs_background": "light"
     },
     "output_type": "display_data"
    }
   ],
   "source": [
    "from pylab import bone, pcolor, colorbar, plot, show\n",
    "bone()\n",
    "pcolor(freq_map.T)\n",
    "colorbar()\n",
    "markers = ['1', '1' , '1', '1', '1','*', 'o', 'v', '.']\n",
    "colors = ['b','g','r','m','c','y','k','w', 'k']\n",
    "for i in range(10) :\n",
    "    for j in range(10) :\n",
    "        freq = freq_map[i,j]\n",
    "        plot(i + 0.5,\n",
    "             j + 0.5,\n",
    "             markers[int(freq)],\n",
    "             markeredgecolor = colors[int(freq)],\n",
    "             markerfacecolor = 'None',\n",
    "             markersize = 10,\n",
    "             markeredgewidth = 2)    \n",
    "show()"
   ]
  },
  {
   "cell_type": "code",
   "execution_count": 100,
   "id": "acaee533-de5f-43c5-9198-e4be1e2f864c",
   "metadata": {
    "tags": []
   },
   "outputs": [
    {
     "data": {
      "text/plain": [
       "<matplotlib.collections.PolyCollection at 0x1e431bcbdc0>"
      ]
     },
     "execution_count": 100,
     "metadata": {},
     "output_type": "execute_result"
    },
    {
     "data": {
      "image/png": "[encoded data removed]",
      "text/plain": [
       "<Figure size 432x288 with 1 Axes>"
      ]
     },
     "metadata": {
      "needs_background": "light"
     },
     "output_type": "display_data"
    }
   ],
   "source": [
    "pcolor(freq_map.T)\n"
   ]
  },
  {
   "cell_type": "code",
   "execution_count": 103,
   "id": "3e71dbca-c179-4c69-96be-acad920de436",
   "metadata": {},
   "outputs": [],
   "source": [
    "from minisom import MiniSom"
   ]
  },
  {
   "cell_type": "code",
   "execution_count": null,
   "id": "4d43ee4d-5d02-4275-91cb-0df9ab47d8e2",
   "metadata": {},
   "outputs": [],
   "source": []
  },
  {
   "cell_type": "code",
   "execution_count": 104,
   "id": "4ea29e71-0194-4910-bbd9-19332fa01cb0",
   "metadata": {
    "tags": []
   },
   "outputs": [
    {
     "name": "stdout",
     "output_type": "stream",
     "text": [
      " [ 1000 / 1000 ] 100% - 0:00:00 left \n",
      " quantization error: 0.006609597330044915\n"
     ]
    }
   ],
   "source": [
    "som = MiniSom(x= 10, y = 10, input_len = 4, activation_distance='euclidean', sigma = 3.0, learning_rate = 0.5)\n",
    "som.random_weights_init(unit_norm_numpy)\n",
    "som.train_random(data = unit_norm_numpy, num_iteration = 1000, verbose = True)"
   ]
  },
  {
   "cell_type": "code",
   "execution_count": 105,
   "id": "556a21da-88fb-472f-a6d3-ac7bc7627c08",
   "metadata": {
    "tags": []
   },
   "outputs": [],
   "source": [
    "win_map = som.win_map( data = unit_norm_numpy, return_indices=True)\n",
    "label_map = som.labels_map(data =  unit_norm_numpy, labels = Y)"
   ]
  },
  {
   "cell_type": "code",
   "execution_count": 106,
   "id": "a3cd5686-6eea-427e-9def-1918cdf3135f",
   "metadata": {},
   "outputs": [],
   "source": [
    "freq_map = np.zeros(shape=(10,10))\n",
    "sum_map , diff_map = np.zeros(shape=(10,10)), np.zeros(shape=(10,10))\n",
    "for i in range(10) :\n",
    "    for j in range(10) :\n",
    "        #print(i,j)\n",
    "        d = (label_map[(i,j)])\n",
    "        #print(d)\n",
    "        if not d:\n",
    "            max_val = -1\n",
    "            freq_map[i,j] = max_val\n",
    "            sum_map[i,j] = 0\n",
    "            diff_map[i,j] = 0\n",
    "        else :\n",
    "            values = list(d.values())\n",
    "            keys = list(d.keys())\n",
    "            max_val = keys[values.index(max(values))]\n",
    "            freq_map[i,j] = max_val\n",
    "            sum_map[i,j] = int(sum(values))\n",
    "            diff_map[i,j] = int(sum(values) - max(values))\n",
    "            #print(values,keys)\n",
    "        "
   ]
  },
  {
   "cell_type": "code",
   "execution_count": 107,
   "id": "3bd8038d-6737-412c-adb8-a80693553810",
   "metadata": {},
   "outputs": [
    {
     "name": "stdout",
     "output_type": "stream",
     "text": [
      "2.0\n"
     ]
    },
    {
     "data": {
      "image/png": "[encoded data removed]",
      "text/plain": [
       "<Figure size 432x288 with 2 Axes>"
      ]
     },
     "metadata": {
      "needs_background": "light"
     },
     "output_type": "display_data"
    }
   ],
   "source": [
    "from pylab import bone, pcolor, colorbar, plot, show\n",
    "#print(diff_map)\n",
    "#print(sum((diff_map.T)))\n",
    "print(sum(sum(diff_map)))\n",
    "\n",
    "pcolor(diff_map.T)\n",
    "colorbar()\n",
    "for i in range(10) :\n",
    "    for j in range(10) :\n",
    "        freq = freq_map[i,j]\n",
    "        plot(i + 0.5,\n",
    "             j + 0.5)\n",
    "show()\n"
   ]
  },
  {
   "cell_type": "code",
   "execution_count": 108,
   "id": "863fe142-1c82-41b2-a716-6f346fc121d1",
   "metadata": {},
   "outputs": [
    {
     "data": {
      "image/png": "[encoded data removed]",
      "text/plain": [
       "<Figure size 432x288 with 2 Axes>"
      ]
     },
     "metadata": {
      "needs_background": "light"
     },
     "output_type": "display_data"
    }
   ],
   "source": [
    "from pylab import bone, pcolor, colorbar, plot, show\n",
    "bone()\n",
    "pcolor(freq_map.T)\n",
    "colorbar()\n",
    "markers = ['1', '1' , '1', '1', '1','*', 'o', 'v', '.']\n",
    "colors = ['b','g','r','m','c','y','k','w', 'k']\n",
    "for i in range(10) :\n",
    "    for j in range(10) :\n",
    "        freq = freq_map[i,j]\n",
    "        plot(i + 0.5,\n",
    "             j + 0.5,\n",
    "             markers[int(freq)],\n",
    "             markeredgecolor = colors[int(freq)],\n",
    "             markerfacecolor = 'None',\n",
    "             markersize = 10,\n",
    "             markeredgewidth = 2)    \n",
    "show()"
   ]
  },
  {
   "cell_type": "code",
   "execution_count": 109,
   "id": "5dfc4bb0-f9ac-48a0-9640-9dc7bbadaa68",
   "metadata": {
    "tags": []
   },
   "outputs": [
    {
     "data": {
      "text/plain": [
       "<matplotlib.collections.PolyCollection at 0x1e4331b4fd0>"
      ]
     },
     "execution_count": 109,
     "metadata": {},
     "output_type": "execute_result"
    },
    {
     "data": {
      "image/png": "[encoded data removed]",
      "text/plain": [
       "<Figure size 432x288 with 1 Axes>"
      ]
     },
     "metadata": {
      "needs_background": "light"
     },
     "output_type": "display_data"
    }
   ],
   "source": [
    "pcolor(freq_map.T)\n"
   ]
  },
  {
   "cell_type": "code",
   "execution_count": null,
   "id": "7fb60434-4d02-49fb-932c-79b1d78a304b",
   "metadata": {},
   "outputs": [],
   "source": []
  },
  {
   "cell_type": "code",
   "execution_count": null,
   "id": "145518ac-bf88-405b-a0d0-76189c3d8567",
   "metadata": {},
   "outputs": [],
   "source": []
  }
 ],
 "metadata": {
  "kernelspec": {
   "display_name": "Python 3 (ipykernel)",
   "language": "python",
   "name": "python3"
  },
  "language_info": {
   "codemirror_mode": {
    "name": "ipython",
    "version": 3
   },
   "file_extension": ".py",
   "mimetype": "text/x-python",
   "name": "python",
   "nbconvert_exporter": "python",
   "pygments_lexer": "ipython3",
   "version": "3.9.12"
  }
 },
 "nbformat": 4,
 "nbformat_minor": 5
}
